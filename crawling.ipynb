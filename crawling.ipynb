{
 "cells": [
  {
   "cell_type": "code",
   "execution_count": 8,
   "metadata": {},
   "outputs": [],
   "source": [
    "from datetime import datetime, timedelta\n",
    "\n",
    "start_date = \"2019-01-01\"\n",
    "stop_date = \"2019-01-05\"\n",
    "\n",
    "start = datetime.strptime(start_date, \"%Y-%m-%d\")\n",
    "stop = datetime.strptime(stop_date, \"%Y-%m-%d\")\n",
    "\n",
    "dates = list()\n",
    "while start <= stop:\n",
    "    dates.append(start.strftime('%Y%m%d'))\n",
    "    start = start + timedelta(days=1)"
   ]
  },
  {
   "cell_type": "code",
   "execution_count": 9,
   "metadata": {},
   "outputs": [],
   "source": [
    "import requests\n",
    "from bs4 import BeautifulSoup as bs"
   ]
  },
  {
   "cell_type": "code",
   "execution_count": 10,
   "metadata": {},
   "outputs": [],
   "source": [
    "def process_document(document, date):\n",
    "    \n",
    "    nodes = document.select('ul.list > li')\n",
    "    data = list()\n",
    "\n",
    "    for li in nodes:\n",
    "\n",
    "        # check if is empty element\n",
    "        if li.select_one('a') == None:\n",
    "            continue\n",
    "\n",
    "        # get link\n",
    "        li_link = 'http://news.ltn.com.tw/' + li.select_one('a')['href']\n",
    "\n",
    "        # request for document\n",
    "        li_res = requests.get(li_link)\n",
    "        li_doc = bs(li_res.text, 'lxml')\n",
    "\n",
    "        # get date\n",
    "        li_date = datetime.strptime(date, \"%Y%m%d\").strftime('%Y-%m-%d')\n",
    "\n",
    "        #get title\n",
    "        li_title = li.select_one('p').get_text()\n",
    "\n",
    "        #get content\n",
    "        li_content = \"\"\n",
    "        for ele in li_doc.select('div.text > p'):\n",
    "            if not 'appE1121' in ele.get('class', []):\n",
    "                li_content += ele.get_text()\n",
    "\n",
    "        # append new row\n",
    "        data.append({\n",
    "            'date' : li_date,\n",
    "            'title': li_title,\n",
    "            'link' : li_link,\n",
    "            'content' : li_content,\n",
    "            'tags' : []\n",
    "        })\n",
    "    return data"
   ]
  },
  {
   "cell_type": "code",
   "execution_count": 11,
   "metadata": {},
   "outputs": [
    {
     "name": "stdout",
     "output_type": "stream",
     "text": [
      "start crawling : 20190101\n",
      "start crawling : 20190102\n",
      "start crawling : 20190103\n",
      "start crawling : 20190104\n",
      "start crawling : 20190105\n"
     ]
    }
   ],
   "source": [
    "cnt = 0\n",
    "all_data = list()\n",
    "for date in dates:\n",
    "    print('start crawling :', date)\n",
    "    res = requests.get('https://news.ltn.com.tw/list/newspaper/business/' + date)\n",
    "    doc = bs(res.text, 'lxml')\n",
    "    data = process_document(doc, date)\n",
    "    all_data += data"
   ]
  },
  {
   "cell_type": "code",
   "execution_count": 12,
   "metadata": {},
   "outputs": [
    {
     "data": {
      "text/plain": [
       "[{'date': '2019-01-01',\n",
       "  'title': '謠言終結站》聘僱後再調4萬薪？ 勞動部︰徵才就得揭露',\n",
       "  'link': 'http://news.ltn.com.tw/news/business/paper/1258175',\n",
       "  'content': '勞動部強調，新制上路後，月薪未達4萬元，徵才訊息不得寫「面議」，違反可處6萬到30萬元罰鍰；先前有案例將薪資區間拉大，例如「月薪3萬到5萬元」，是遊走在法規灰色地帶，也是不行！',\n",
       "  'tags': []},\n",
       " {'date': '2019-01-01',\n",
       "  'title': '六福皇宮熄燈「是逗點，不是句點」',\n",
       "  'link': 'http://news.ltn.com.tw/news/business/paper/1258182',\n",
       "  'content': '〔記者王憶紅／台北報導〕成立二十年的台北威斯汀六福皇宮昨舉辦熄燈派對，當初開幕時擔任台北市長的前總統馬英九應邀出席。馬英九說，他見證了六福皇宮結束營業、畫下完美句點；但隨後上台致詞的六福旅遊集團總裁莊秀石忙著補充，「我們不是畫下句點，而是畫下逗點，我們將會再起」。六福皇宮昨熄燈派對，馬英九、聯電榮譽董事長曹興誠等知名人士出席。馬英九致詞時指出，總統任內十分重視觀光旅遊產業，任內觀光客出現「奇蹟式成長」，上任時來台人次為三七一萬人次（觀光局統計二○○九年是四三九萬人次），卸任時增加至超過一千萬人次，「而近三年不過增加五十七萬人次，我任內八年，每年增加八十萬人次」，語氣似在暗諷民進黨執政推動觀光不及自己任內。馬英九還說，他見證了六福皇宮結束營業、畫下完美句點；但隨後上台致詞的六福旅遊集團總裁莊秀石忙著補充，「我們不是畫下句點，而是畫下逗點」，熄燈是有點悲哀，但上車總是要下車，且因為是承租的土地、建物，總是要還給別人，強調將會再起。六福旅遊集團董事長莊豐如說，六福皇宮再開張，應該是總裁希望完成的事，但現在要在北市找這麼大規模的土地來蓋飯店，確實要花時間，但會持續進行；六福集團未來仍將以旅館與遊樂核心事業為主體，六福萬怡酒店將成為集團飯店品牌主力，而「再見、不是再也不見」，六福皇宮未來不排除在台北市、外縣市、甚至海外尋覓新據點重生。台北威斯汀六福皇宮自一九九九年開幕以來，拿下不少第一，包括全台第一個Westin品牌飯店、首創五星級飯店內設置電影院、國內第一個設置雪茄館的五星級飯店等。',\n",
       "  'tags': []},\n",
       " {'date': '2019-01-01',\n",
       "  'title': '暗指六福皇宮租金太高 莊豐如：我的淚值1.5億',\n",
       "  'link': 'http://news.ltn.com.tw/news/business/paper/1258183',\n",
       "  'content': '〔記者王憶紅／台北報導〕六福皇宮昨日熄燈。六福旅遊集團董事長莊豐如說，如果他（國泰人壽）重新出租，用一模一樣的條件，而別人有獲利，「那是我們的問題」；「我認為，我的眼淚值一．五億元啦」（暗指年租金過高）！莊豐如用壓抑激憤的聲音說，「我們也許沒有辦法去證明租金問題，但要證明我們沒能力，他就要以一樣的租金條件去租給別人，別人經營得起來，那就是我們的問題、沒有經營能力」。根據六福年報，去年前三季每股虧損三．一元，前年及大前年每股虧損三．○三元及一．○五元，連續三年虧損。六福旅遊集團總裁莊秀石解釋，六福集團旗下事業多是獲利，只有六福皇宮賠錢，新開的六福萬怡因前三年有折舊攤提，才會虧損，但去年十二月已損益平衡，六福集團今年一定會賺錢。莊秀石透露，其實早在四、五年前就想要還給他（指國壽），但因有合約，不做要賠他，寧願少賠，所以做到合約最後一天。莊豐如說，中客只有做參訪團；事實上，開放中客來台時，就跟經營團隊說，我們要爭取中客，但中客不是我們的重點，也不可以把中客當成重要的比例，因為這樣絕對有問題；政府講南向的時候，我們前半年就開始在做南向了。至於為何眼淚值一．五億元？莊豐如不願明說。六福是在一九九九年向國泰人壽租賃六福皇宮，因雙方對租金簽有保密協議，外界難窺究竟；但根據資料顯示，六福近二十年完整年度營業費用中的租金支出介於二．八億元至四．九億元，業內人士分析，扣除其他土地及建物租金，一．五億元應該就是暗指六福皇宮的年租金。另外，根據六福年報，一九九○年至一九九九年間只有一年虧損，但二○○○年至二○一八年卻僅四年有獲利，近三年更連續虧損，透露六福當年向國泰人壽承租經營六福皇宮，應該是打錯算盤。',\n",
       "  'tags': []},\n",
       " {'date': '2019-01-01',\n",
       "  'title': '吹捧中客效應 害慘飯店業',\n",
       "  'link': 'http://news.ltn.com.tw/news/business/paper/1258184',\n",
       "  'content': '記者王憶紅／特稿台灣近兩年來，飯店業的平均房價、住房率都下滑，被瞎扯成是沒有九二共識、中客就不來。事實上，從各項數據來看，國內飯店市場早陷入供過於求窘境，馬前總統自誇其任內「奇蹟式成長」，根本就是仰人鼻息，靠著中國大開中客水龍頭，從不到百萬人次暴增到逾四百萬人次，這也讓不少相關業者誤判情勢，砸錢競相蓋飯店；就算近兩年來台旅客還是破千萬人次，市場供過於求早更加惡化。六福皇宮昨熄燈，馬英九到場致詞暗酸蔡政府，稱他任內觀光業是「奇蹟式成長」，八年任內每年增加八十萬人次。對比統計數字可發現，馬誇稱任內來台旅客首破千萬人次，其中逾四百萬是靠中客；就算蔡政府上任後因不甩九二共識得罪中國，遭報復關掉中客水龍頭，中客人數從四一八萬人次驟降至約二五○萬人次，近兩年來，靠著日、韓及東南亞遊客，來台旅客人數還是硬挺在千萬人次之上。從二○一三年到二○一七年底，台灣有四十七家觀光飯店興建完成，總投資金額達九五三億逾元，釋出房間數達一．一五萬間、大增五十六％；拜馬政府執政之賜，讓原本供過於求的飯店業，競爭更加紅海化。根據觀光局最新資料，到二○二二年間，興建或籌備中的飯店有三十二家，房間數達一．一六萬間，總投資金額達七八七億餘元，已較過去降溫；但「韓流」是否會再次吹大中客泡沫，觀光業界請好自為之，不要到時候再怪東怪西！',\n",
       "  'tags': []},\n",
       " {'date': '2019-01-01',\n",
       "  'title': '風電商急爭取5.8費率 彰縣府經濟部踢皮球',\n",
       "  'link': 'http://news.ltn.com.tw/news/business/paper/1258185',\n",
       "  'content': '〔記者張聰秋、高嘉和／綜合報導〕針對四家離岸風電開發商希望趕在明（二）日拿到在彰化沿海開發離岸風電籌設許可證，爭取適用去年較高的躉購費率，經濟部堅持要彰化縣政府先通過複審同意函，始能核准發照，因這是處理申請案上「公平、公正及一致性的原則」；彰化縣政府昨強調，已給了意見，決定權在中央、不在縣府。一月二日是離岸風電開發商拿到複審同意函的最後期限，要拿到複審同意，沃旭、哥本哈根基礎建設基金（CIP）、海龍及中鋼等四家開發商，日後完成併聯送電、賣電給台電才能適用去年每度五．八元的躉購費率，否則只能以今年的五．一元計價（草案暫訂）。彰縣府建設處長兼代理經濟暨綠能發展處處長劉玉平昨表示，縣府已於去年十二月二十八日回復，其後不會再表達任何意見和立場，經濟部能源局要縣府復查同意函，縣府也給了「籌備創設審查，無涉本府（指彰化縣政府）職權」的答案；目前離岸風電開發許可審查的單位，縣府只是之一，能源局要不要核發許可證？要適用哪一種躉購費率？這是能源局的職權，縣府會尊重。但能源局堅稱，過去已核准的離岸風電案件，都是依「電業登記規則」及「發電業申請設置審查及作業流程」相關規定辦理；因彰縣府在去年十二月二十八日回復函表示，這些業者對「縣府審查意見之答覆說明內容過於簡略」，請業者說明。基於一致性原則，當然要請業者補充答覆說明資料後，續送彰縣府表示意見，並釐清相關問題，且無新增意見後，才會核發籌設許可。',\n",
       "  'tags': []}]"
      ]
     },
     "execution_count": 12,
     "metadata": {},
     "output_type": "execute_result"
    }
   ],
   "source": [
    "all_data[0:5]"
   ]
  },
  {
   "cell_type": "code",
   "execution_count": null,
   "metadata": {},
   "outputs": [],
   "source": []
  },
  {
   "cell_type": "code",
   "execution_count": null,
   "metadata": {},
   "outputs": [],
   "source": []
  }
 ],
 "metadata": {
  "kernelspec": {
   "display_name": "Python 3",
   "language": "python",
   "name": "python3"
  },
  "language_info": {
   "codemirror_mode": {
    "name": "ipython",
    "version": 3
   },
   "file_extension": ".py",
   "mimetype": "text/x-python",
   "name": "python",
   "nbconvert_exporter": "python",
   "pygments_lexer": "ipython3",
   "version": "3.7.1"
  },
  "widgets": {
   "application/vnd.jupyter.widget-state+json": {
    "state": {},
    "version_major": 2,
    "version_minor": 0
   }
  }
 },
 "nbformat": 4,
 "nbformat_minor": 2
}
